{
 "cells": [
  {
   "cell_type": "code",
   "execution_count": 3,
   "metadata": {},
   "outputs": [],
   "source": [
    "import pandas as pd\n",
    "import json\n",
    "import os\n",
    "from tqdm import tqdm"
   ]
  },
  {
   "cell_type": "code",
   "execution_count": 4,
   "metadata": {},
   "outputs": [
    {
     "name": "stderr",
     "output_type": "stream",
     "text": [
      "100%|███████████████████████████████████████████████████████████████████████████| 40514/40514 [02:24<00:00, 281.27it/s]\n"
     ]
    }
   ],
   "source": [
    "# ***Replace this folder path***\n",
    "folder = \"./Experiences/\"\n",
    "\n",
    "database = {\"ID\":[],\"Drugs\":[],\"Text\":[]}\n",
    "\n",
    "for file in tqdm(os.listdir(folder)):\n",
    "    try:\n",
    "        json_dict = json.loads(open(folder+file, encoding=\"utf8\").read())\n",
    "        prev_dose = json_dict[\"dosechart\"][0]['substance']\n",
    "        skip = 0\n",
    "        for dose in json_dict[\"dosechart\"]:\n",
    "            if dose['substance'] != prev_dose:\n",
    "                skip = 1\n",
    "                break\n",
    "        if skip == 0:\n",
    "            database[\"ID\"].append(file[:-5])\n",
    "            database[\"Drugs\"].append(json_dict[\"drug\"])\n",
    "            database[\"Text\"].append(json_dict[\"text\"])\n",
    "    except:\n",
    "        pass\n",
    "#         print(file,\"ERROR\")\n",
    "\n",
    "df = pd.DataFrame(database)"
   ]
  },
  {
   "cell_type": "code",
   "execution_count": null,
   "metadata": {},
   "outputs": [],
   "source": [
    "df.loc[df['Drugs']=='Ecstasy','Drugs'] = 'MDMA'"
   ]
  },
  {
   "cell_type": "code",
   "execution_count": 22,
   "metadata": {},
   "outputs": [
    {
     "data": {
      "text/html": [
       "<div>\n",
       "<style scoped>\n",
       "    .dataframe tbody tr th:only-of-type {\n",
       "        vertical-align: middle;\n",
       "    }\n",
       "\n",
       "    .dataframe tbody tr th {\n",
       "        vertical-align: top;\n",
       "    }\n",
       "\n",
       "    .dataframe thead th {\n",
       "        text-align: right;\n",
       "    }\n",
       "</style>\n",
       "<table border=\"1\" class=\"dataframe\">\n",
       "  <thead>\n",
       "    <tr style=\"text-align: right;\">\n",
       "      <th></th>\n",
       "      <th>Drugs</th>\n",
       "      <th>ID</th>\n",
       "    </tr>\n",
       "  </thead>\n",
       "  <tbody>\n",
       "    <tr>\n",
       "      <th>695</th>\n",
       "      <td>Cannabis</td>\n",
       "      <td>1104</td>\n",
       "    </tr>\n",
       "    <tr>\n",
       "      <th>1590</th>\n",
       "      <td>LSD</td>\n",
       "      <td>1002</td>\n",
       "    </tr>\n",
       "    <tr>\n",
       "      <th>1980</th>\n",
       "      <td>Mushrooms</td>\n",
       "      <td>923</td>\n",
       "    </tr>\n",
       "    <tr>\n",
       "      <th>1718</th>\n",
       "      <td>MDMA</td>\n",
       "      <td>742</td>\n",
       "    </tr>\n",
       "    <tr>\n",
       "      <th>2534</th>\n",
       "      <td>Salvia divinorum</td>\n",
       "      <td>569</td>\n",
       "    </tr>\n",
       "  </tbody>\n",
       "</table>\n",
       "</div>"
      ],
      "text/plain": [
       "                 Drugs    ID\n",
       "695           Cannabis  1104\n",
       "1590               LSD  1002\n",
       "1980         Mushrooms   923\n",
       "1718              MDMA   742\n",
       "2534  Salvia divinorum   569"
      ]
     },
     "execution_count": 22,
     "metadata": {},
     "output_type": "execute_result"
    }
   ],
   "source": [
    "data = df.drop('Text', axis=1).groupby('Drugs').count().reset_index()\n",
    "data.sort_values('ID', ascending=False)[:5]"
   ]
  },
  {
   "cell_type": "code",
   "execution_count": 23,
   "metadata": {},
   "outputs": [],
   "source": [
    "df = df[df['Drugs'].isin(['Cannabis', 'LSD', 'MDMA', 'Mushrooms', 'Salvia divinorum'])]"
   ]
  },
  {
   "cell_type": "markdown",
   "metadata": {},
   "source": [
    "**======================================================================================================**"
   ]
  },
  {
   "cell_type": "code",
   "execution_count": 24,
   "metadata": {},
   "outputs": [],
   "source": [
    "lsd = df[df[\"Drugs\"]==\"LSD\"][\"Text\"].tolist()\n",
    "cannabis = df[df[\"Drugs\"]==\"Cannabis\"][\"Text\"].tolist()\n",
    "mdma = df[df[\"Drugs\"]==\"MDMA\"][\"Text\"].tolist()\n",
    "mushrooms = df[df[\"Drugs\"]==\"Mushrooms\"][\"Text\"].tolist()\n",
    "salvia = df[df[\"Drugs\"]==\"Salvia divinorum\"][\"Text\"].tolist()"
   ]
  },
  {
   "cell_type": "code",
   "execution_count": 25,
   "metadata": {},
   "outputs": [],
   "source": [
    "all_reports = []\n",
    "\n",
    "for experience in lsd:\n",
    "    lines = []\n",
    "    for item in experience:\n",
    "        item = 'LSD: ' + item\n",
    "        if item.strip() != \"\":\n",
    "            lines.append(item.strip().split())\n",
    "    all_reports += lines\n",
    "\n",
    "for experience in cannabis:\n",
    "    lines = []\n",
    "    for item in experience:\n",
    "        item = 'Cannabis: ' + item\n",
    "        if item.strip() != \"\":\n",
    "            lines.append(item.strip().split())\n",
    "    all_reports += lines\n",
    "\n",
    "for experience in mdma:\n",
    "    lines = []\n",
    "    for item in experience:\n",
    "        item = 'MDMA: ' + item\n",
    "        if item.strip() != \"\":\n",
    "            lines.append(item.strip().split())\n",
    "    all_reports += lines\n",
    "\n",
    "for experience in mushrooms:\n",
    "    lines = []\n",
    "    for item in experience:\n",
    "        item = 'Mushrooms: ' + item\n",
    "        if item.strip() != \"\":\n",
    "            lines.append(item.strip().split())\n",
    "    all_reports += lines\n",
    "\n",
    "for experience in salvia:\n",
    "    lines = []\n",
    "    for item in experience:\n",
    "        item = 'Salvia: ' + item\n",
    "        if item.strip() != \"\":\n",
    "            lines.append(item.strip().split())\n",
    "    all_reports += lines"
   ]
  },
  {
   "cell_type": "code",
   "execution_count": 26,
   "metadata": {},
   "outputs": [],
   "source": [
    "import pickle\n",
    "\n",
    "with open('experiences.pickle', 'wb') as handle:\n",
    "    pickle.dump(all_reports, handle, protocol=pickle.HIGHEST_PROTOCOL)"
   ]
  },
  {
   "cell_type": "markdown",
   "metadata": {},
   "source": [
    "**========================================================================================================================**"
   ]
  },
  {
   "cell_type": "code",
   "execution_count": 27,
   "metadata": {},
   "outputs": [],
   "source": [
    "import pickle\n",
    "\n",
    "with open('experiences.pickle', 'rb') as handle:\n",
    "    all_reports = pickle.load(handle)"
   ]
  },
  {
   "cell_type": "code",
   "execution_count": 28,
   "metadata": {
    "scrolled": false
   },
   "outputs": [
    {
     "name": "stdout",
     "output_type": "stream",
     "text": [
      "Cannabis: Right until the drum solo of 'end' the music was no longer some external thing. It was my reality... I no longer felt connected with the real that we experience around us, I was simply swimming in a sea of pictures that my mind made with relation to the songs I was listening to. But the important thing is that it's not just limited to what I saw, it affected what I heard as well (as hard as it is to express) but more than how it affected my senses it affected my knowing... as if it wasn't really sensual stimulation at all... I was just being told by some cosmic force (the music) how things were.\n",
      "\n",
      "\n",
      "Cannabis: I finally found the bathroom and discovered by looking in the mirror that my eyes weren’t red, which was a plus considering my dad was picking me up in a few hours. When I found my way back to the computer my friend was still watching g-force and listening to system of a down-spiders. There were odd spiraling patterns coming across the screen in cool colors in response to the music. As the pattern spun, my eyes instantly tracked to it and my head turned around with the pattern. My friend was just sitting there looking at me (he was already a little high at the time) and was like, “yeah, man, you are totally baked.\n",
      "\n",
      "\n",
      "Cannabis: For some reason I thought earlier that night she told me M died. This was because, she said 'the same thing happened to M...' and I knew I was dead, I knew he was dead too. In bed, I text messaged him and said “hey are you up” meaning to ask if he was alive. He said, “yeah I’m half asleep what’s up” and I responded “wake up.” I didn’t want him to die. I then called Jared. It rang for what seemed like hours until I finally got to his voicemail. I didn’t leave a message. I sent him a text message asking him to call me when he got the text. This was at about 3:30 am.\n",
      "\n",
      "\n",
      "Cannabis: At the college I got a hamburger and eating it was a main event of its own. I could feel every single element of the burger sliding down my mouth and throat; the buns, lettuce, tomatoes, sauce, all individually. That burger went down in 10 seconds flat and I got some large fries but the fries were not as enjoyable. They were dry and salty and being high magnified that 10 times but I finished them anyways; I wasn't gonna let good food go to waste. While drinking soda, I felt sort of like Casper the ghost, where I couldn't really feel the physical existence of my neck, mouth, and throat, but I could feel the stream of soda going down. It was very awe-inspiring.\n",
      "\n",
      "\n",
      "Cannabis: I find that cannabis gives me very strong auditory hallucinations (as a note: both salvia and morning glory also give me strong auditory hallucinations). Some of these hallucinations are “real hallucinations” in the sense that I cannot distinguish whether they are real (especially for repetitive noises like mechanical noises and bird noises, but also twice with music that was not really playing). I always have a strong “soundtrack effect” where I know that the music and/or noises are in my head but they are very strong and almost “real”, much more than having a song in your head in daily life. It is like brain stereo.\n",
      "\n",
      "\n",
      "Cannabis: Fast forward to the age of 17 and I was smoking cannabis every single day. To be able to afford this I started to deal. Not great amounts at first but soon greater and greater amounts. Dealing was ok. I was pretty smart and never ripped anyone off. It was around this time that people around me were telling me that “you’ve changed”. I didn’t pay any attention. I had moved out of home and had my own place, with a new girlfriend. My relationship with my parents became so strained that that I hardly ever saw them. My girlfriend was telling me that I smoked too much weed. It was ok though as cannabis never killed anyone and it was just a herb.\n",
      "\n",
      "\n",
      "Cannabis: The net effect was that the memory of that time began to become more than a memory. I began to feel like I was turning back into my twelve-year-old self. It was as though the last decade and more of experiences and memories had dissolved and I was becoming that small boy once again. Even then I wasn't too scared, until I realised that it was happening not only at night when I was smoking, but during the day too, while I sat, entirely without smoking, on buses and trucks rattling between Lao villages. At this point I knew things had gone too far. I gave the rest of the bag away to the aforementioned veteran smoker. I later learned that he could not finish the bag either.\n",
      "\n",
      "\n",
      "Cannabis: It was about 8:25 by this time and we were at his house. We smoked another bowl in the bong at 8:35 and decided to go swimming. Normally, although I am a good swimmer, I have an irrational fear of deep water and swimming, but still feeling fearless, I had no problem. I could have done anything at that moment. There was not a single feeling of doubt inside of me, and I realized that I could be or do anything I want to be. I got in the hot tub and began to relax. I started thinking about life and what it means to be successful, and how success is so easily achieved.\n",
      "\n",
      "\n",
      "Cannabis: I get home and i am scared. very very scared. i lay down on the bed and tried to calm myself. It wasnt happening. Everytime I slowed my thoughts down I felt as if, no, I was sure I was going to die. I now know what it is like to die, the slowing of thought, the realisation that this is your last thought and then nothing. No dream like state, no ascending blissfully to heaven just an end of thought and an end of consciousness. It was scary scary shit and I wanted to have my mum around as it ended.\n",
      "\n",
      "\n",
      "Cannabis: 2nd quarter started and I told myself I'd quit for at least a couple of weeks, thinking it would be easy. I went 2 weeks and one night, smoked with my friend at 1am without even thinking about the promise I'd made to myself. I smoked a couple times a day for the next 4 days. At this point, I didn't get nearly as high as I used to, but I was so set in my ways that it didn't matter. I was running from my insecurities and I thought weed was the only thing that could help me. I'd hang out with friends and smoke bowls for days. Then I'd get so depressed when I stopped that I started crying and called my mom just to talk.\n",
      "\n",
      "\n"
     ]
    }
   ],
   "source": [
    "import random\n",
    "\n",
    "def markov_model(n, sequences):\n",
    "    model = {}\n",
    "    for seq in sequences:\n",
    "      seq = list(seq[:]) + [None]\n",
    "      for i in range(len(seq)-n):\n",
    "          gram = tuple(seq[i:i+n])\n",
    "          next_item = seq[i+n]\n",
    "          if gram not in model:\n",
    "              model[gram] = []\n",
    "          model[gram].append(next_item)\n",
    "    return model\n",
    "\n",
    "def generate_from_markov_model(n, model, start=None, max_gen=200):\n",
    "    if start is None:\n",
    "        start = random.choice(list(model.keys()))\n",
    "    output = list(start)\n",
    "    for i in range(max_gen):\n",
    "        start = tuple(output[-n:])\n",
    "        next_item = random.choice(model[start])\n",
    "        if next_item is None:\n",
    "            break\n",
    "        else:\n",
    "            output.append(next_item)\n",
    "    return output\n",
    "\n",
    "\n",
    "n = 10\n",
    "count = 10\n",
    "max_gen = 120\n",
    "drug = random.choice(['Cannabis', 'LSD', 'MDMA', 'Mushrooms', 'Salvia'])\n",
    "sequences = all_reports\n",
    "starts = [item[:n] for item in sequences if ((len(item) >= n) and (item[0] == f\"{drug}:\"))]\n",
    "model = markov_model(n, sequences)\n",
    "\n",
    "for i in range(count):\n",
    "    output = []\n",
    "    while len(output)<100:\n",
    "        output = generate_from_markov_model(n, model, random.choice(starts), max_gen)\n",
    "\n",
    "    generated = \" \".join(output)\n",
    "    generated = generated[:generated.rfind('.')]+'.'\n",
    "    print(generated)\n",
    "    print(\"\\n\")\n",
    "\n",
    "# for i, each in enumerate(generated):\n",
    "#   print(f'{i+1}) {each}')\n",
    "#   print(\"\\n\")"
   ]
  },
  {
   "cell_type": "code",
   "execution_count": null,
   "metadata": {},
   "outputs": [],
   "source": []
  }
 ],
 "metadata": {
  "colab": {
   "provenance": []
  },
  "kernelspec": {
   "display_name": "Python 3 (ipykernel)",
   "language": "python",
   "name": "python3"
  },
  "language_info": {
   "codemirror_mode": {
    "name": "ipython",
    "version": 3
   },
   "file_extension": ".py",
   "mimetype": "text/x-python",
   "name": "python",
   "nbconvert_exporter": "python",
   "pygments_lexer": "ipython3",
   "version": "3.11.7"
  }
 },
 "nbformat": 4,
 "nbformat_minor": 1
}
